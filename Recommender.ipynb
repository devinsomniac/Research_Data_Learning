{
 "cells": [
  {
   "cell_type": "code",
   "execution_count": 22,
   "id": "8dc900a0-8cca-4b18-9399-c63907b7907a",
   "metadata": {},
   "outputs": [],
   "source": [
    "import pandas as pd"
   ]
  },
  {
   "cell_type": "code",
   "execution_count": 24,
   "id": "b1c9be11-23e4-45f2-a177-f7cdfa9716ec",
   "metadata": {},
   "outputs": [],
   "source": [
    "movies = pd.read_csv('./Data/movies.dat',sep=\"::\",header=None,engine='python',names=[\"MovieID\",\"title\",\"genres\"],encoding=\"ISO-8859-1\")"
   ]
  },
  {
   "cell_type": "code",
   "execution_count": 25,
   "id": "8d9a0e9d-e99f-466e-aa42-30112d117a8c",
   "metadata": {},
   "outputs": [],
   "source": [
    "ratings = pd.read_csv('./Data/ratings.dat',sep=\"::\",header=None,engine='python',names=[\"UserID\",\"MovieID\",\"Ratings\",\"Timestamp\"],encoding=\"ISO-8859-1\")\n"
   ]
  },
  {
   "cell_type": "code",
   "execution_count": 26,
   "id": "89c49b06-a24d-48e2-8d01-76cc23b98802",
   "metadata": {},
   "outputs": [],
   "source": [
    "ratings['Timestamp'] = pd.to_datetime(ratings['Timestamp'], unit='s')"
   ]
  },
  {
   "cell_type": "code",
   "execution_count": 27,
   "id": "4a472d69-7344-47d7-a1bc-f59bf780badb",
   "metadata": {},
   "outputs": [],
   "source": [
    "age_mapping = {\n",
    "    1: \"Under 18\",\n",
    "    18: \"18-24\",\n",
    "    25: \"25-34\",\n",
    "    35: \"35-44\",\n",
    "    45: \"45-49\",\n",
    "    50: \"50-55\",\n",
    "    56: \"56+\"\n",
    "}\n",
    "\n",
    "occupation_mapping = {\n",
    "    0: \"other\",\n",
    "    1: \"academic/educator\",\n",
    "    2: \"artist\",\n",
    "    3: \"clerical/admin\",\n",
    "    4: \"college/grad student\",\n",
    "    5: \"customer service\",\n",
    "    6: \"doctor/health care\",\n",
    "    7: \"executive/managerial\",\n",
    "    8: \"farmer\",\n",
    "    9: \"homemaker\",\n",
    "    10: \"K-12 student\",\n",
    "    11: \"lawyer\",\n",
    "    12: \"programmer\",\n",
    "    13: \"retired\",\n",
    "    14: \"sales/marketing\",\n",
    "    15: \"scientist\",\n",
    "    16: \"self-employed\",\n",
    "    17: \"technician/engineer\",\n",
    "    18: \"tradesman/craftsman\",\n",
    "    19: \"unemployed\",\n",
    "    20: \"writer\"\n",
    "}\n"
   ]
  },
  {
   "cell_type": "code",
   "execution_count": 28,
   "id": "ed9f922d-0c84-45d8-8322-caa38e8e940a",
   "metadata": {},
   "outputs": [],
   "source": [
    "users = pd.read_csv('./Data/users.dat', sep=\"::\", header=None, names=[\"UserID\", \"gender\", \"age\", \"occupation\", \"zip_code\"], engine='python',encoding=\"ISO-8859-1\")"
   ]
  },
  {
   "cell_type": "code",
   "execution_count": 29,
   "id": "19820721-a9e3-4754-aae1-a39b83c27a8b",
   "metadata": {},
   "outputs": [],
   "source": [
    "users = users.drop(columns=['zip_code'])"
   ]
  },
  {
   "cell_type": "code",
   "execution_count": 30,
   "id": "633218e5-96e3-4759-9796-f2b320bdb0b4",
   "metadata": {},
   "outputs": [],
   "source": [
    "users['age'] = users['age'].map(age_mapping)\n",
    "users['occupation'] = users['occupation'].map(occupation_mapping)"
   ]
  },
  {
   "cell_type": "code",
   "execution_count": 31,
   "id": "bfa3f9d0-c215-44fd-9b43-cef8d91b976d",
   "metadata": {},
   "outputs": [
    {
     "data": {
      "text/html": [
       "<div>\n",
       "<style scoped>\n",
       "    .dataframe tbody tr th:only-of-type {\n",
       "        vertical-align: middle;\n",
       "    }\n",
       "\n",
       "    .dataframe tbody tr th {\n",
       "        vertical-align: top;\n",
       "    }\n",
       "\n",
       "    .dataframe thead th {\n",
       "        text-align: right;\n",
       "    }\n",
       "</style>\n",
       "<table border=\"1\" class=\"dataframe\">\n",
       "  <thead>\n",
       "    <tr style=\"text-align: right;\">\n",
       "      <th></th>\n",
       "      <th>MovieID</th>\n",
       "      <th>title</th>\n",
       "      <th>genres</th>\n",
       "    </tr>\n",
       "  </thead>\n",
       "  <tbody>\n",
       "    <tr>\n",
       "      <th>0</th>\n",
       "      <td>1</td>\n",
       "      <td>Toy Story (1995)</td>\n",
       "      <td>Animation|Children's|Comedy</td>\n",
       "    </tr>\n",
       "    <tr>\n",
       "      <th>1</th>\n",
       "      <td>2</td>\n",
       "      <td>Jumanji (1995)</td>\n",
       "      <td>Adventure|Children's|Fantasy</td>\n",
       "    </tr>\n",
       "    <tr>\n",
       "      <th>2</th>\n",
       "      <td>3</td>\n",
       "      <td>Grumpier Old Men (1995)</td>\n",
       "      <td>Comedy|Romance</td>\n",
       "    </tr>\n",
       "    <tr>\n",
       "      <th>3</th>\n",
       "      <td>4</td>\n",
       "      <td>Waiting to Exhale (1995)</td>\n",
       "      <td>Comedy|Drama</td>\n",
       "    </tr>\n",
       "    <tr>\n",
       "      <th>4</th>\n",
       "      <td>5</td>\n",
       "      <td>Father of the Bride Part II (1995)</td>\n",
       "      <td>Comedy</td>\n",
       "    </tr>\n",
       "  </tbody>\n",
       "</table>\n",
       "</div>"
      ],
      "text/plain": [
       "   MovieID                               title                        genres\n",
       "0        1                    Toy Story (1995)   Animation|Children's|Comedy\n",
       "1        2                      Jumanji (1995)  Adventure|Children's|Fantasy\n",
       "2        3             Grumpier Old Men (1995)                Comedy|Romance\n",
       "3        4            Waiting to Exhale (1995)                  Comedy|Drama\n",
       "4        5  Father of the Bride Part II (1995)                        Comedy"
      ]
     },
     "execution_count": 31,
     "metadata": {},
     "output_type": "execute_result"
    }
   ],
   "source": [
    "movies.head()"
   ]
  },
  {
   "cell_type": "code",
   "execution_count": 32,
   "id": "258b5a49-f2ab-4bb3-afca-72e0af082e4a",
   "metadata": {},
   "outputs": [
    {
     "data": {
      "text/html": [
       "<div>\n",
       "<style scoped>\n",
       "    .dataframe tbody tr th:only-of-type {\n",
       "        vertical-align: middle;\n",
       "    }\n",
       "\n",
       "    .dataframe tbody tr th {\n",
       "        vertical-align: top;\n",
       "    }\n",
       "\n",
       "    .dataframe thead th {\n",
       "        text-align: right;\n",
       "    }\n",
       "</style>\n",
       "<table border=\"1\" class=\"dataframe\">\n",
       "  <thead>\n",
       "    <tr style=\"text-align: right;\">\n",
       "      <th></th>\n",
       "      <th>UserID</th>\n",
       "      <th>MovieID</th>\n",
       "      <th>Ratings</th>\n",
       "      <th>Timestamp</th>\n",
       "    </tr>\n",
       "  </thead>\n",
       "  <tbody>\n",
       "    <tr>\n",
       "      <th>0</th>\n",
       "      <td>1</td>\n",
       "      <td>1193</td>\n",
       "      <td>5</td>\n",
       "      <td>2000-12-31 22:12:40</td>\n",
       "    </tr>\n",
       "    <tr>\n",
       "      <th>1</th>\n",
       "      <td>1</td>\n",
       "      <td>661</td>\n",
       "      <td>3</td>\n",
       "      <td>2000-12-31 22:35:09</td>\n",
       "    </tr>\n",
       "    <tr>\n",
       "      <th>2</th>\n",
       "      <td>1</td>\n",
       "      <td>914</td>\n",
       "      <td>3</td>\n",
       "      <td>2000-12-31 22:32:48</td>\n",
       "    </tr>\n",
       "    <tr>\n",
       "      <th>3</th>\n",
       "      <td>1</td>\n",
       "      <td>3408</td>\n",
       "      <td>4</td>\n",
       "      <td>2000-12-31 22:04:35</td>\n",
       "    </tr>\n",
       "    <tr>\n",
       "      <th>4</th>\n",
       "      <td>1</td>\n",
       "      <td>2355</td>\n",
       "      <td>5</td>\n",
       "      <td>2001-01-06 23:38:11</td>\n",
       "    </tr>\n",
       "  </tbody>\n",
       "</table>\n",
       "</div>"
      ],
      "text/plain": [
       "   UserID  MovieID  Ratings           Timestamp\n",
       "0       1     1193        5 2000-12-31 22:12:40\n",
       "1       1      661        3 2000-12-31 22:35:09\n",
       "2       1      914        3 2000-12-31 22:32:48\n",
       "3       1     3408        4 2000-12-31 22:04:35\n",
       "4       1     2355        5 2001-01-06 23:38:11"
      ]
     },
     "execution_count": 32,
     "metadata": {},
     "output_type": "execute_result"
    }
   ],
   "source": [
    "ratings.head()"
   ]
  },
  {
   "cell_type": "code",
   "execution_count": 33,
   "id": "a47fee13-3d34-48e7-b250-501ef7424f24",
   "metadata": {},
   "outputs": [
    {
     "data": {
      "text/html": [
       "<div>\n",
       "<style scoped>\n",
       "    .dataframe tbody tr th:only-of-type {\n",
       "        vertical-align: middle;\n",
       "    }\n",
       "\n",
       "    .dataframe tbody tr th {\n",
       "        vertical-align: top;\n",
       "    }\n",
       "\n",
       "    .dataframe thead th {\n",
       "        text-align: right;\n",
       "    }\n",
       "</style>\n",
       "<table border=\"1\" class=\"dataframe\">\n",
       "  <thead>\n",
       "    <tr style=\"text-align: right;\">\n",
       "      <th></th>\n",
       "      <th>UserID</th>\n",
       "      <th>gender</th>\n",
       "      <th>age</th>\n",
       "      <th>occupation</th>\n",
       "    </tr>\n",
       "  </thead>\n",
       "  <tbody>\n",
       "    <tr>\n",
       "      <th>0</th>\n",
       "      <td>1</td>\n",
       "      <td>F</td>\n",
       "      <td>Under 18</td>\n",
       "      <td>K-12 student</td>\n",
       "    </tr>\n",
       "    <tr>\n",
       "      <th>1</th>\n",
       "      <td>2</td>\n",
       "      <td>M</td>\n",
       "      <td>56+</td>\n",
       "      <td>self-employed</td>\n",
       "    </tr>\n",
       "    <tr>\n",
       "      <th>2</th>\n",
       "      <td>3</td>\n",
       "      <td>M</td>\n",
       "      <td>25-34</td>\n",
       "      <td>scientist</td>\n",
       "    </tr>\n",
       "    <tr>\n",
       "      <th>3</th>\n",
       "      <td>4</td>\n",
       "      <td>M</td>\n",
       "      <td>45-49</td>\n",
       "      <td>executive/managerial</td>\n",
       "    </tr>\n",
       "    <tr>\n",
       "      <th>4</th>\n",
       "      <td>5</td>\n",
       "      <td>M</td>\n",
       "      <td>25-34</td>\n",
       "      <td>writer</td>\n",
       "    </tr>\n",
       "  </tbody>\n",
       "</table>\n",
       "</div>"
      ],
      "text/plain": [
       "   UserID gender       age            occupation\n",
       "0       1      F  Under 18          K-12 student\n",
       "1       2      M       56+         self-employed\n",
       "2       3      M     25-34             scientist\n",
       "3       4      M     45-49  executive/managerial\n",
       "4       5      M     25-34                writer"
      ]
     },
     "execution_count": 33,
     "metadata": {},
     "output_type": "execute_result"
    }
   ],
   "source": [
    "users.head()"
   ]
  },
  {
   "cell_type": "code",
   "execution_count": 34,
   "id": "22d57fec-9c2e-4a88-ac0d-4fde1077016a",
   "metadata": {},
   "outputs": [],
   "source": [
    "users_rating = pd.merge(users,ratings,on=\"UserID\",how=\"inner\")"
   ]
  },
  {
   "cell_type": "code",
   "execution_count": 35,
   "id": "b7fa0141-8fc8-49d6-99fa-8b5b69767237",
   "metadata": {},
   "outputs": [
    {
     "data": {
      "text/html": [
       "<div>\n",
       "<style scoped>\n",
       "    .dataframe tbody tr th:only-of-type {\n",
       "        vertical-align: middle;\n",
       "    }\n",
       "\n",
       "    .dataframe tbody tr th {\n",
       "        vertical-align: top;\n",
       "    }\n",
       "\n",
       "    .dataframe thead th {\n",
       "        text-align: right;\n",
       "    }\n",
       "</style>\n",
       "<table border=\"1\" class=\"dataframe\">\n",
       "  <thead>\n",
       "    <tr style=\"text-align: right;\">\n",
       "      <th></th>\n",
       "      <th>UserID</th>\n",
       "      <th>gender</th>\n",
       "      <th>age</th>\n",
       "      <th>occupation</th>\n",
       "      <th>MovieID</th>\n",
       "      <th>Ratings</th>\n",
       "      <th>Timestamp</th>\n",
       "    </tr>\n",
       "  </thead>\n",
       "  <tbody>\n",
       "    <tr>\n",
       "      <th>0</th>\n",
       "      <td>1</td>\n",
       "      <td>F</td>\n",
       "      <td>Under 18</td>\n",
       "      <td>K-12 student</td>\n",
       "      <td>1193</td>\n",
       "      <td>5</td>\n",
       "      <td>2000-12-31 22:12:40</td>\n",
       "    </tr>\n",
       "    <tr>\n",
       "      <th>1</th>\n",
       "      <td>1</td>\n",
       "      <td>F</td>\n",
       "      <td>Under 18</td>\n",
       "      <td>K-12 student</td>\n",
       "      <td>661</td>\n",
       "      <td>3</td>\n",
       "      <td>2000-12-31 22:35:09</td>\n",
       "    </tr>\n",
       "    <tr>\n",
       "      <th>2</th>\n",
       "      <td>1</td>\n",
       "      <td>F</td>\n",
       "      <td>Under 18</td>\n",
       "      <td>K-12 student</td>\n",
       "      <td>914</td>\n",
       "      <td>3</td>\n",
       "      <td>2000-12-31 22:32:48</td>\n",
       "    </tr>\n",
       "    <tr>\n",
       "      <th>3</th>\n",
       "      <td>1</td>\n",
       "      <td>F</td>\n",
       "      <td>Under 18</td>\n",
       "      <td>K-12 student</td>\n",
       "      <td>3408</td>\n",
       "      <td>4</td>\n",
       "      <td>2000-12-31 22:04:35</td>\n",
       "    </tr>\n",
       "    <tr>\n",
       "      <th>4</th>\n",
       "      <td>1</td>\n",
       "      <td>F</td>\n",
       "      <td>Under 18</td>\n",
       "      <td>K-12 student</td>\n",
       "      <td>2355</td>\n",
       "      <td>5</td>\n",
       "      <td>2001-01-06 23:38:11</td>\n",
       "    </tr>\n",
       "  </tbody>\n",
       "</table>\n",
       "</div>"
      ],
      "text/plain": [
       "   UserID gender       age    occupation  MovieID  Ratings           Timestamp\n",
       "0       1      F  Under 18  K-12 student     1193        5 2000-12-31 22:12:40\n",
       "1       1      F  Under 18  K-12 student      661        3 2000-12-31 22:35:09\n",
       "2       1      F  Under 18  K-12 student      914        3 2000-12-31 22:32:48\n",
       "3       1      F  Under 18  K-12 student     3408        4 2000-12-31 22:04:35\n",
       "4       1      F  Under 18  K-12 student     2355        5 2001-01-06 23:38:11"
      ]
     },
     "execution_count": 35,
     "metadata": {},
     "output_type": "execute_result"
    }
   ],
   "source": [
    "users_rating.head()"
   ]
  },
  {
   "cell_type": "code",
   "execution_count": 52,
   "id": "0ac04bb7-587c-425d-8853-5d02c3e34f42",
   "metadata": {},
   "outputs": [],
   "source": [
    "merged_data = pd.merge(users_rating,movies,on=\"MovieID\",how=\"inner\")"
   ]
  },
  {
   "cell_type": "code",
   "execution_count": 53,
   "id": "dde93811-b987-4ee1-bedd-bad733c6ae0f",
   "metadata": {},
   "outputs": [
    {
     "data": {
      "text/html": [
       "<div>\n",
       "<style scoped>\n",
       "    .dataframe tbody tr th:only-of-type {\n",
       "        vertical-align: middle;\n",
       "    }\n",
       "\n",
       "    .dataframe tbody tr th {\n",
       "        vertical-align: top;\n",
       "    }\n",
       "\n",
       "    .dataframe thead th {\n",
       "        text-align: right;\n",
       "    }\n",
       "</style>\n",
       "<table border=\"1\" class=\"dataframe\">\n",
       "  <thead>\n",
       "    <tr style=\"text-align: right;\">\n",
       "      <th></th>\n",
       "      <th>UserID</th>\n",
       "      <th>gender</th>\n",
       "      <th>age</th>\n",
       "      <th>occupation</th>\n",
       "      <th>MovieID</th>\n",
       "      <th>Ratings</th>\n",
       "      <th>Timestamp</th>\n",
       "      <th>title</th>\n",
       "      <th>genres</th>\n",
       "    </tr>\n",
       "  </thead>\n",
       "  <tbody>\n",
       "    <tr>\n",
       "      <th>0</th>\n",
       "      <td>1</td>\n",
       "      <td>F</td>\n",
       "      <td>Under 18</td>\n",
       "      <td>K-12 student</td>\n",
       "      <td>1193</td>\n",
       "      <td>5</td>\n",
       "      <td>2000-12-31 22:12:40</td>\n",
       "      <td>One Flew Over the Cuckoo's Nest (1975)</td>\n",
       "      <td>Drama</td>\n",
       "    </tr>\n",
       "    <tr>\n",
       "      <th>1</th>\n",
       "      <td>1</td>\n",
       "      <td>F</td>\n",
       "      <td>Under 18</td>\n",
       "      <td>K-12 student</td>\n",
       "      <td>661</td>\n",
       "      <td>3</td>\n",
       "      <td>2000-12-31 22:35:09</td>\n",
       "      <td>James and the Giant Peach (1996)</td>\n",
       "      <td>Animation|Children's|Musical</td>\n",
       "    </tr>\n",
       "    <tr>\n",
       "      <th>2</th>\n",
       "      <td>1</td>\n",
       "      <td>F</td>\n",
       "      <td>Under 18</td>\n",
       "      <td>K-12 student</td>\n",
       "      <td>914</td>\n",
       "      <td>3</td>\n",
       "      <td>2000-12-31 22:32:48</td>\n",
       "      <td>My Fair Lady (1964)</td>\n",
       "      <td>Musical|Romance</td>\n",
       "    </tr>\n",
       "    <tr>\n",
       "      <th>3</th>\n",
       "      <td>1</td>\n",
       "      <td>F</td>\n",
       "      <td>Under 18</td>\n",
       "      <td>K-12 student</td>\n",
       "      <td>3408</td>\n",
       "      <td>4</td>\n",
       "      <td>2000-12-31 22:04:35</td>\n",
       "      <td>Erin Brockovich (2000)</td>\n",
       "      <td>Drama</td>\n",
       "    </tr>\n",
       "    <tr>\n",
       "      <th>4</th>\n",
       "      <td>1</td>\n",
       "      <td>F</td>\n",
       "      <td>Under 18</td>\n",
       "      <td>K-12 student</td>\n",
       "      <td>2355</td>\n",
       "      <td>5</td>\n",
       "      <td>2001-01-06 23:38:11</td>\n",
       "      <td>Bug's Life, A (1998)</td>\n",
       "      <td>Animation|Children's|Comedy</td>\n",
       "    </tr>\n",
       "  </tbody>\n",
       "</table>\n",
       "</div>"
      ],
      "text/plain": [
       "   UserID gender       age    occupation  MovieID  Ratings  \\\n",
       "0       1      F  Under 18  K-12 student     1193        5   \n",
       "1       1      F  Under 18  K-12 student      661        3   \n",
       "2       1      F  Under 18  K-12 student      914        3   \n",
       "3       1      F  Under 18  K-12 student     3408        4   \n",
       "4       1      F  Under 18  K-12 student     2355        5   \n",
       "\n",
       "            Timestamp                                   title  \\\n",
       "0 2000-12-31 22:12:40  One Flew Over the Cuckoo's Nest (1975)   \n",
       "1 2000-12-31 22:35:09        James and the Giant Peach (1996)   \n",
       "2 2000-12-31 22:32:48                     My Fair Lady (1964)   \n",
       "3 2000-12-31 22:04:35                  Erin Brockovich (2000)   \n",
       "4 2001-01-06 23:38:11                    Bug's Life, A (1998)   \n",
       "\n",
       "                         genres  \n",
       "0                         Drama  \n",
       "1  Animation|Children's|Musical  \n",
       "2               Musical|Romance  \n",
       "3                         Drama  \n",
       "4   Animation|Children's|Comedy  "
      ]
     },
     "execution_count": 53,
     "metadata": {},
     "output_type": "execute_result"
    }
   ],
   "source": [
    "merged_data.head()"
   ]
  },
  {
   "cell_type": "code",
   "execution_count": 93,
   "id": "c0716c30-1d23-47f6-bda5-81d397f0bff1",
   "metadata": {},
   "outputs": [],
   "source": [
    "import tensorflow as tf\n"
   ]
  },
  {
   "cell_type": "code",
   "execution_count": 94,
   "id": "2f572b35-6a3b-4498-8101-b299a202d847",
   "metadata": {},
   "outputs": [],
   "source": [
    "from tensorflow.keras.layers import Input, Embedding, Concatenate ,Dense , Flatten, Dot"
   ]
  },
  {
   "cell_type": "code",
   "execution_count": 95,
   "id": "87630bff-328f-44df-bc32-d370f4126dde",
   "metadata": {},
   "outputs": [],
   "source": [
    "from tensorflow.keras.models import Model"
   ]
  },
  {
   "cell_type": "code",
   "execution_count": 96,
   "id": "e9663079-4c0f-49cf-9ab6-5e375f6057e5",
   "metadata": {},
   "outputs": [],
   "source": [
    "num_users = merged_data['UserID'].nunique()\n",
    "num_movies = merged_data['MovieID'].nunique()\n",
    "num_genders = merged_data['gender'].nunique()\n",
    "num_ages = merged_data['age'].nunique()\n",
    "num_occupations = merged_data['occupation'].nunique()"
   ]
  },
  {
   "cell_type": "code",
   "execution_count": 117,
   "id": "40b7e856-33d4-446c-90a5-5269506904b2",
   "metadata": {},
   "outputs": [],
   "source": [
    "user_embedding_size = min(50, num_users // 2)\n",
    "gender_embedding_size = 3  \n",
    "age_embedding_size = min(50, num_ages // 2)\n",
    "occupation_embedding_size = min(50, num_occupations // 2)  # Should be 10\n",
    "movie_embedding_size = min(50, num_movies // 2)  # S"
   ]
  },
  {
   "cell_type": "code",
   "execution_count": 118,
   "id": "bd9ba03e-3b7a-492a-885c-0f3773c40e9a",
   "metadata": {},
   "outputs": [],
   "source": [
    "user_input = Input(shape=(1,), name='input_layer_5')\n",
    "gender_input = Input(shape=(1,), name='input_layer_7')\n",
    "age_input = Input(shape=(1,), name='input_layer_8')\n",
    "occupation_input = Input(shape=(1,), name='input_layer_occupation')\n",
    "movie_input = Input(shape=(1,), name='input_layer_movie')"
   ]
  },
  {
   "cell_type": "code",
   "execution_count": 119,
   "id": "5b3e6071-681b-48fa-90da-360e43ea86e7",
   "metadata": {},
   "outputs": [],
   "source": [
    "user_embedding = Embedding(num_users, user_embedding_size)(user_input)\n",
    "gender_embedding = Embedding(num_genders, gender_embedding_size)(gender_input)\n",
    "age_embedding = Embedding(num_ages, age_embedding_size)(age_input)\n",
    "occupation_embedding = Embedding(num_occupations, occupation_embedding_size)(occupation_input)\n",
    "movie_embedding = Embedding(num_movies, movie_embedding_size)(movie_input)"
   ]
  },
  {
   "cell_type": "code",
   "execution_count": 120,
   "id": "74f52012-8fb8-4085-a3ff-c2333bfcbc1f",
   "metadata": {},
   "outputs": [],
   "source": [
    "user_embedding = Flatten()(user_embedding)\n",
    "gender_embedding = Flatten()(gender_embedding)\n",
    "age_embedding = Flatten()(age_embedding)\n",
    "occupation_embedding = Flatten()(occupation_embedding)\n",
    "movie_embedding = Flatten()(movie_embedding)"
   ]
  },
  {
   "cell_type": "code",
   "execution_count": 121,
   "id": "ca302b52-1f25-488c-a144-cbe2b36b4042",
   "metadata": {},
   "outputs": [
    {
     "name": "stdout",
     "output_type": "stream",
     "text": [
      "Occupation embedding shape: (None, 10)\n",
      "Movie embedding shape: (None, 50)\n"
     ]
    }
   ],
   "source": [
    "print(f\"Occupation embedding shape: {occupation_embedding.shape}\")  # Should be (None, 10)\n",
    "print(f\"Movie embedding shape: {movie_embedding.shape}\")  # Should be (None, 1853)"
   ]
  },
  {
   "cell_type": "code",
   "execution_count": null,
   "id": "be65bdff-9fbc-44c1-8b29-ff4080f72131",
   "metadata": {},
   "outputs": [],
   "source": []
  }
 ],
 "metadata": {
  "kernelspec": {
   "display_name": "Python 3 (ipykernel)",
   "language": "python",
   "name": "python3"
  },
  "language_info": {
   "codemirror_mode": {
    "name": "ipython",
    "version": 3
   },
   "file_extension": ".py",
   "mimetype": "text/x-python",
   "name": "python",
   "nbconvert_exporter": "python",
   "pygments_lexer": "ipython3",
   "version": "3.12.4"
  }
 },
 "nbformat": 4,
 "nbformat_minor": 5
}
